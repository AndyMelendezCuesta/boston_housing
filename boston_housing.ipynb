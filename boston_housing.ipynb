{
 "cells": [
  {
   "cell_type": "markdown",
   "metadata": {},
   "source": [
    "#Machine Learning Engineer Nanodegree\n",
    "##Model Evaluation & Validation\n",
    "##Project 1: Predicting Boston Housing Prices\n",
    "\n",
    "Welcome to the first project of the Machine Learning Engineer Nanodegree! In this notebook, some template code has already been written. You will need to implement additional functionality to successfully answer all of the questions for this project. Unless it is requested, do not modify any of the code that has already been included. In this template code, there are four sections which you must complete to successfully produce a prediction with your model. Each section where you will write code is preceded by a **STEP X** header with comments describing what must be done. Please read the instructions carefully!\n",
    "\n",
    "In addition to implementing code, there will be questions that you must answer that relate to the project and your implementation. Each section where you will answer a question is preceded by a **QUESTION X** header. Be sure that you have carefully read each question and provide thorough answers in the text boxes that begin with \"**Answer:**\". Your project submission will be evaluated based on your answers to each of the questions.  \n",
    "\n",
    "A description of the dataset can be found [here](https://archive.ics.uci.edu/ml/datasets/Housing), which is provided by the **UCI Machine Learning Repository**."
   ]
  },
  {
   "cell_type": "markdown",
   "metadata": {},
   "source": [
    "#Getting Started\n",
    "To familiarize yourself with an iPython Notebook, **try double clicking on this cell**. You will notice that the text changes so that all the formatting is removed. This allows you to make edits to the block of text you see here. This block of text (and mostly anything that's not code) is written using [Markdown](http://daringfireball.net/projects/markdown/syntax), which is a way to format text using headers, links, italics, and many other options! Whether you're editing a Markdown text block or a code block (like the one below), you can use the keyboard shortcut **Shift + Enter** or **Shift + Return** to execute the code or text block. In this case, it will show the formatted text.\n",
    "\n",
    "Let's start by setting up some code we will need to get the rest of the project up and running. Use the keyboard shortcut mentioned above on the following code block to execute it. Alternatively, depending on your iPython Notebook program, you can press the **Play** button in the hotbar. You'll know the code block executes successfully if the message *\"Boston Housing dataset loaded successfully!\"* is printed."
   ]
  },
  {
   "cell_type": "code",
   "execution_count": 4,
   "metadata": {
    "collapsed": false
   },
   "outputs": [],
   "source": [
    "# Importing a few necessary libraries\n",
    "import numpy as np\n",
    "import matplotlib.pyplot as pl\n",
    "from sklearn import datasets\n",
    "from sklearn.tree import DecisionTreeRegressor\n",
    "\n",
    "# Make matplotlib show our plots inline (nicely formatted in the notebook)\n",
    "%matplotlib inline\n",
    "\n",
    "# Create our client's feature set for which we will be predicting a selling price\n",
    "CLIENT_FEATURES = [[11.95, 0.00, 18.100, 0, 0.6590, 5.6090, 90.00, 1.385, 24, 680.0, 20.20, 332.09, 12.13]]\n",
    "\n",
    "# Load the Boston Housing dataset into the city_data variable\n",
    "city_data = datasets.load_boston()\n",
    "\n",
    "# Initialize the housing prices and housing features\n",
    "housing_prices = city_data.target\n",
    "housing_features = city_data.data\n",
    "\n",
    "print \"Boston Housing dataset loaded successfully!\""
   ]
  },
  {
   "cell_type": "markdown",
   "metadata": {},
   "source": [
    "#Statistical Analysis and Data Exploration\n",
    "In this first section of the project, you will quickly investigate a few basic statistics about the dataset you are working with. In addition, you'll look at the client's feature set in `CLIENT_FEATURES` and see how this particular sample relates to the features of the dataset. Familiarizing yourself with the data through an explorative process is a fundamental practice to help you better understand your results."
   ]
  },
  {
   "cell_type": "markdown",
   "metadata": {},
   "source": [
    "##Step 1\n",
    "In the code block below, use the imported `numpy` library to calculate the requested statistics. You will need to replace each `None` you find with the appropriate `numpy` coding for the proper statistic to be printed. Be sure to execute the code block each time to test if your implementation is working successfully. The print statements will show the statistics you calculate!"
   ]
  },
  {
   "cell_type": "code",
   "execution_count": 51,
   "metadata": {
    "collapsed": false
   },
   "outputs": [
    {
     "data": {
      "text/plain": [
       "Statistical Analysis and Data Exploration\n",
       "No. of houses: 506\n",
       "No. of housing features: 13\n",
       "Minimum price: 5.0\n",
       "Maximum price: 50.0\n",
       "Mean house price: 22.5328063241\n",
       "Median house price: 21.2\n",
       "Standard dev house price: 9.18801154528"
      ]
     },
     "execution_count": 51,
     "metadata": {},
     "output_type": "execute_result"
    }
   ],
   "source": [
    "# Number of houses and features in the dataset\n",
    "total_houses, total_features = np.shape(housing_features)\n",
    "\n",
    "# Minimum housing value in the dataset\n",
    "minimum_price = np.min(housing_prices)\n",
    "\n",
    "# Maximum housing value in the dataset\n",
    "maximum_price = np.max(housing_prices)\n",
    "\n",
    "# Mean house value of the dataset\n",
    "mean_price = np.mean(housing_prices)\n",
    "\n",
    "# Median house value of the dataset\n",
    "median_price = np.median(housing_prices)\n",
    "\n",
    "# Standard deviation of housing values of the dataset\n",
    "std_dev = np.std(housing_prices)\n",
    "\n",
    "# Show the calculated statistics\n",
    "print \"Boston Housing dataset statistics (in $1000's):\"\n",
    "print \"Total number of houses:\" + str(total_houses)\n",
    "print \"Total number of features:\" + str(total_features)\n",
    "print \"Minimum house price:\" + str(minimum_price)\n",
    "print \"Maximum house price:\" + str(maximum_price)\n",
    "print \"Mean house price:\" + str(mean_price)\n",
    "print \"Median house price:\" + str(median_price)\n",
    "print \"Standard deviation of house price: \" + str(std_dev)"
   ]
  },
  {
   "cell_type": "markdown",
   "metadata": {},
   "source": [
    "##Question 1\n",
    "As a reminder, you can view a description of the Boston Housing dataset [here](https://archive.ics.uci.edu/ml/datasets/Housing), where you can find the different features under **Attribute Information**. The `MEDV` attribute relates to the values stored in our `housing_prices` variable, so we do not consider that a feature of the data.\n",
    "\n",
    "*Of the features available for each data point, choose three that you feel are significant and give a brief description for each of what they measure.*\n",
    "\n",
    "Remember, you can **double click the text box below** to add your answer!"
   ]
  },
  {
   "cell_type": "markdown",
   "metadata": {},
   "source": [
    "**Answer:** Three of the features that are significant are **RAD**, **TAX** and **LSTAT**\n",
    "\n",
    "**RAD**, index of accessibility to radial highways, because being closer to highways eases mobilization and that raises the value of the property.\n",
    "\n",
    "**TAX**, full-value property-tax rate per $10,000, because higher taxes indicate that the property is more expensive.\n",
    "\n",
    "**LSTAT**, % lower status of the population, because being close to neighbors who are part of the upper status of the population increases the value of the whole neighborhood and the property."
    ]
  },
  {
   "cell_type": "markdown",
   "metadata": {},
   "source": [
    "##Question 2\n",
    "*Using your client's feature set `CLIENT_FEATURES`, which values correspond with the features you've chosen above?*  \n",
    "**Hint: ** Run the code block below to see the client's data."
   ]
  },
  {
   "cell_type": "code",
   "execution_count": 210,
   "metadata": {
    "collapsed": false
   },
   "outputs": [],
   "source": [
    "choosen_features = ['RAD', 'TAX', 'LSTAT']\n",
    "features = city_data.feature_names.tolist()\n",
    "for feature in choosen_features:\n",
    "   index = features.index(feature)\n",
    "   print CLIENT_FEATURES[0][index]"
   ]
  },
  {
   "cell_type": "markdown",
   "metadata": {},
   "source": [
    "**Answer: **\n",
    "\n",
    "1.385\n",
    "\n",
    "24\n",
    "\n",
    "12.13\n",
    "\n",
    "**RAD** is CLIENT_FEATURES[0][8] = 1.385, **TAX** is CLIENT_FEATURES[0][9] = 24 and **LSTAT** is CLIENT_FEATURES[0][12] = 12.13\n",
    "\n",
    "**CLIENT_FEATURES** = [[11.95, 0.00, 18.100, 0, 0.6590, 5.6090, 90.00, 1.385, 24, 680.0, 20.20, 332.09, 12.13]]"
   ]
  },
  {
   "cell_type": "markdown",
   "metadata": {},
   "source": [
    "#Evaluating Model Performance\n",
    "In this second section of the project, you will begin to develop the tools necessary for a model to make a prediction. Being able to accurately evaluate each model's performance through the use of these tools helps to greatly reinforce the confidence in your predictions."
   ]
  },
  {
   "cell_type": "markdown",
   "metadata": {},
   "source": [
    "##Step 2\n",
    "In the code block below, you will need to implement code so that the `shuffle_split_data` function does the following:\n",
    "- Randomly shuffle the input data `X` and target labels (housing values) `y`.\n",
    "- Split the data into training and testing subsets, holding 30% of the data for testing.\n",
    "\n",
    "If you use any functions not already acessible from the imported libraries above, remember to include your import statement below as well!  \n",
    "Ensure that you have executed the code block once you are done. You'll know if the `shuffle_split_data` function is working if the statement *\"Successfully shuffled and split the data!\"* is printed."
   ]
  },
  {
   "cell_type": "code",
   "execution_count": 60,
   "metadata": {
    "collapsed": false
   },
   "outputs": [],
   "source": [
    "# Put any import statements you need for this code block here\n",
    "\n",
    "def shuffle_split_data(X, y):\n",
    "    \"\"\" Shuffles and splits data into 70% training and 30% testing subsets,\n",
    "        then returns the training and testing subsets. \"\"\"\n",
    "\n",
    "    # Shuffle and split the data\n",
    "    X_train, X_test, y_train, y_test = train_test_split(X, y, train_size=0.70,\n",
    "                                             test_size=0.30, random_state=True)\n",
    "\n",
    "    # Return the training and testing data subsets\n",
    "    return X_train, y_train, X_test, y_test\n",
    "\n",
    "\n",
    "# Test shuffle_split_data\n",
    "try:\n",
    "    X_train, y_train, X_test, y_test = shuffle_split_data(housing_features, housing_prices)\n",
    "    print \"Successfully shuffled and split the data!\"\n",
    "except:\n",
    "    print \"Something went wrong with shuffling and splitting the data.\""
   ]
  },
  {
   "cell_type": "markdown",
   "metadata": {},
   "source": [
    "##Question 4\n",
    "*Why do we split the data into training and testing subsets for our model?*"
   ]
  },
  {
   "cell_type": "markdown",
   "metadata": {},
   "source": [
    "**Answer: **\n",
    "We split into testing and training data to prevent overfitting because with the training data we find the model and with testing data we can evaluate if our model is doing well predicting new data.\n"
    ]
  },
  {
   "cell_type": "markdown",
   "metadata": {},
   "source": [
    "##Step 3\n",
    "In the code block below, you will need to implement code so that the `performance_metric` function does the following:\n",
    "- Perform a total error calculation between the true values of the `y` labels `y_true` and the predicted values of the `y` labels `y_predict`.\n",
    "\n",
    "You will need to first choose an appropriate performance metric for this problem. See [the sklearn metrics documentation](http://scikit-learn.org/stable/modules/classes.html#sklearn-metrics-metrics) to view a list of available metric functions. **Hint: ** Look at the question below to see a list of the metrics that were covered in the supporting course for this project.\n",
    "\n",
    "Once you have determined which metric you will use, remember to include the necessary import statement as well!  \n",
    "Ensure that you have executed the code block once you are done. You'll know if the `performance_metric` function is working if the statement *\"Successfully performed a metric calculation!\"* is printed."
   ]
  },
  {
   "cell_type": "code",
   "execution_count": 80,
   "metadata": {
    "collapsed": false
   },
   "outputs": [],
   "source": [
    "# Put any import statements you need for this code block here\n",
    "\n",
    "def performance_metric(y_true, y_predict):\n",
    "    \"\"\" Calculates and returns the total error between true and predicted values\n",
    "        based on a performance metric chosen by the student. \"\"\"\n",
    "\n",
    "    return metrics.mean_squared_error(y_true, y_predict)\n",
    "\n",
    "\n",
    "# Test performance_metric\n",
    "try:\n",
    "    total_error = performance_metric(y_train, y_train)\n",
    "    print \"Successfully performed a metric calculation!\"\n",
    "except:\n",
    "    print \"Something went wrong with performing a metric calculation.\""
   ]
  },
  {
   "cell_type": "markdown",
   "metadata": {},
   "source": [
    "##Question 4\n",
    "*Which performance metric below did you find was most appropriate for predicting housing prices and analyzing the total error. Why?*\n",
    "- *Accuracy*\n",
    "- *Precision*\n",
    "- *Recall*\n",
    "- *F1 Score*\n",
    "- *Mean Squared Error (MSE)*\n",
    "- *Mean Absolute Error (MAE)*"
   ]
  },
  {
   "cell_type": "markdown",
   "metadata": {},
   "source": [
    "**Answer: ** Mean Squared Error **(MSE)** because given that in our dataset there are no outliers, **MSE** (risk function that minimizes the difference between the truth and predicted values) penalizes more large errors than the Mean Absolute Error (MAE)."
   ]
  },
  {
   "cell_type": "markdown",
   "metadata": {},
   "source": [
    "##Step 4 (Final Step)\n",
    "In the code block below, you will need to implement code so that the `fit_model` function does the following:\n",
    "- Create a scoring function using the same performance metric as in **Step 2**. See the [sklearn `make_scorer` documentation](http://scikit-learn.org/stable/modules/generated/sklearn.metrics.make_scorer.html).\n",
    "- Build a GridSearchCV object using `regressor`, `parameters`, and `scoring_function`. See the [sklearn documentation on GridSearchCV](http://scikit-learn.org/stable/modules/generated/sklearn.grid_search.GridSearchCV.html).\n",
    "\n",
    "When building the scoring function and GridSearchCV object, *be sure that you read the parameters documentation thoroughly.* It is not always the case that a default parameter for a function is the appropriate setting for the problem you are working on.\n",
    "\n",
    "Since you are using `sklearn` functions, remember to include the necessary import statements below as well!  \n",
    "Ensure that you have executed the code block once you are done. You'll know if the `fit_model` function is working if the statement *\"Successfully fit a model to the data!\"* is printed."
   ]
  },
  {
   "cell_type": "code",
   "execution_count": 179,
   "metadata": {
    "collapsed": false
   },
   "outputs": [],
   "source": [
    "# Put any import statements you need for this code block\n",
    "\n",
    "def fit_model(X, y):\n",
    "    \"\"\" Tunes a decision tree regressor model using GridSearchCV on the input data X \n",
    "        and target labels y and returns this optimal model. \"\"\"\n",
    "\n",
    "    # Create a decision tree regressor object\n",
    "    regressor = DecisionTreeRegressor()\n",
    "\n",
    "    # Set up the parameters we wish to tune\n",
    "    parameters = {'max_depth':(1,2,3,4,5,6,7,8,9,10)}\n",
    "\n",
    "    # Make an appropriate scoring function\n",
    "    scoring_function = make_scorer(mean_squared_error, greater_is_better=False)\n",
    "\n",
    "    # Make the GridSearchCV object\n",
    "    reg = grid_search.GridSearchCV(regressor, parameters, scoring='mean_squared_error')\n",
    "\n",
    "    # Fit the learner to the data to obtain the optimal model with tuned parameters\n",
    "    reg.fit(X, y)\n",
    "\n",
    "    # Return the optimal model\n",
    "    return reg\n",
    "\n",
    "\n",
    "# Test fit_model on entire dataset\n",
    "try:\n",
    "    reg = fit_model(housing_features, housing_prices)\n",
    "    print \"Successfully fit a model!\"\n",
    "except:\n",
    "    print \"Something went wrong with fitting a model.\""
   ]
  },
  {
   "cell_type": "markdown",
   "metadata": {},
   "source": [
    "##Question 5\n",
    "*What is the grid search algorithm and when is it applicable?*"
   ]
  },
  {
   "cell_type": "markdown",
   "metadata": {},
   "source": [
    "**Answer: ** As found in [Scikit-Learn Library](http://scikit-learn.org/stable/modules/grid_search.html) Grid Search is an algorithm that exhaustively considers all parameter combinations and it is useful for examples that have incomplete label data.\n",
    "\n",
    "According to [UC Berkeley's lecture](http://www.cs.berkeley.edu/~jrs/4/lec/22) Grid search algorithm (GS)\n",
    "\n",
    "is most appropriate when function evaluations are cheap or the number of parameters is small.  But it's only a good start;\n",
    "\n",
    "we should refine the result using an algorithm like grid walk or Nelder-Mead."
   ]
  },
  {
   "cell_type": "markdown",
   "metadata": {},
   "source": [
    "##Question 6\n",
    "*What is cross-validation, and how is it performed on a model? Why would cross-validation be helpful when using grid search?*"
   ]
  },
  {
   "cell_type": "markdown",
   "metadata": {},
   "source": [
    "**Answer: ** Cross-validation **(CV)** is a technique to evaluate predictive models by partitioning the original sample into a training set to train the model, and a test set to evaluate it.\n",
    "\n",
    "When the dataset is limited in size, Grid Search will allow an extensive explotation of available data. Grid search exhaustively generates candidates from a grid of parameter values.\n", 
    "\n",
    "Cross-validation is helpful when using grid search because it helps us to prevent overfitting and have a better predicition for new data. If we limit grid search to single testing set,\n",
    "\n",
    "we may accidentally over fit our model if the split testing set is imbalanced. Using cross validation the parameters will be optimized on the entire data set and any random anomalies due to random splitting will be removed.\n",
    "\n",
    "K-fold cross validation is one way to improve over CV. The data set is divided into k subsets, and CV is repeated k times. It lets us reappropriate test data for training data, and vice versa.\n",
    "\n",
    "By implementing Grid Search with k-fold Cross-Validation each model would be trained with best learning result and best validation.\n",
    "\n",
    "Cross-validation is helpful when using grid search because it helps us to prevent overfitting and have a better predicition for new data. Grid search exhaustively generates candidates from a grid of parameter values [Grid Search](http://scikit-learn.org/stable/modules/grid_search.html)"
    ]
  },
  {
   "cell_type": "markdown",
   "metadata": {},
   "source": [
    "#Checkpoint!\n",
    "You have now successfully completed your last code implementation section. Pat yourself on the back! All of your functions written above will be executed in the remaining sections below, and questions will be asked about various results for you to analyze. To prepare the **Analysis** and **Prediction** sections, you will need to intialize the two functions below. Remember, there's no need to implement any more code, so sit back and execute the code blocks! Some code comments are provided if you find yourself interested in the functionality."
   ]
  },
  {
   "cell_type": "code",
   "execution_count": 92,
   "metadata": {
    "collapsed": true
   },
   "outputs": [],
   "source": [
    "def learning_curves(X_train, y_train, X_test, y_test):\n",
    "    \"\"\" Calculates the performance of several models with varying sizes of training data.\n",
    "        The learning and testing error rates for each model are then plotted. \"\"\"\n",
    "    \n",
    "    print \"Creating learning curve graphs for max_depths of 1, 3, 6, and 10. . .\"\n",
    "    \n",
    "    # Create the figure window\n",
    "    fig = pl.figure(figsize=(10,8))\n",
    "\n",
    "    # We will vary the training set size so that we have 50 different sizes\n",
    "    sizes = np.round(np.linspace(1, len(X_train), 50))\n",
    "    train_err = np.zeros(len(sizes))\n",
    "    test_err = np.zeros(len(sizes))\n",
    "\n",
    "    # Create four different models based on max_depth\n",
    "    for k, depth in enumerate([1,3,6,10]):\n",
    "        \n",
    "        for i, s in enumerate(sizes):\n",
    "            \n",
    "            # Setup a decision tree regressor so that it learns a tree with max_depth = depth\n",
    "            regressor = DecisionTreeRegressor(max_depth = depth)\n",
    "            \n",
    "            # Fit the learner to the training data\n",
    "            regressor.fit(X_train[:s], y_train[:s])\n",
    "\n",
    "            # Find the performance on the training set\n",
    "            train_err[i] = performance_metric(y_train[:s], regressor.predict(X_train[:s]))\n",
    "            \n",
    "            # Find the performance on the testing set\n",
    "            test_err[i] = performance_metric(y_test, regressor.predict(X_test))\n",
    "\n",
    "        # Subplot the learning curve graph\n",
    "        ax = fig.add_subplot(2, 2, k+1)\n",
    "        ax.plot(sizes, test_err, lw = 2, label = 'Testing Error')\n",
    "        ax.plot(sizes, train_err, lw = 2, label = 'Training Error')\n",
    "        ax.legend()\n",
    "        ax.set_title('max_depth = %s'%(depth))\n",
    "        ax.set_xlabel('Number of Data Points in Training Set')\n",
    "        ax.set_ylabel('Total Error')\n",
    "        ax.set_xlim([0, len(X_train)])\n",
    "    \n",
    "    # Visual aesthetics\n",
    "    fig.suptitle('Decision Tree Regressor Learning Performances', fontsize=18, y=1.03)\n",
    "    fig.tight_layout()\n",
    "    fig.show()"
   ]
  },
  {
   "cell_type": "code",
   "execution_count": 137,
   "metadata": {
    "collapsed": true
   },
   "outputs": [],
   "source": [
    "def model_complexity(X_train, y_train, X_test, y_test):\n",
    "    \"\"\" Calculates the performance of the model as model complexity increases.\n",
    "        The learning and testing errors rates are then plotted. \"\"\"\n",
    "    \n",
    "    print \"Creating a model complexity graph. . . \"\n",
    "\n",
    "    # We will vary the max_depth of a decision tree model from 1 to 14\n",
    "    max_depth = np.arange(1, 14)\n",
    "    train_err = np.zeros(len(max_depth))\n",
    "    test_err = np.zeros(len(max_depth))\n",
    "\n",
    "    for i, d in enumerate(max_depth):\n",
    "        # Setup a Decision Tree Regressor so that it learns a tree with depth d\n",
    "        regressor = DecisionTreeRegressor(max_depth = d)\n",
    "\n",
    "        # Fit the learner to the training data\n",
    "        regressor.fit(X_train, y_train)\n",
    "\n",
    "        # Find the performance on the training set\n",
    "        train_err[i] = performance_metric(y_train, regressor.predict(X_train))\n",
    "\n",
    "        # Find the performance on the testing set\n",
    "        test_err[i] = performance_metric(y_test, regressor.predict(X_test))\n",
    "\n",
    "    # Plot the model complexity graph\n",
    "    pl.figure(figsize=(7, 5))\n",
    "    pl.title('Decision Tree Regressor Complexity Performance')\n",
    "    pl.plot(max_depth, test_err, lw=2, label = 'Testing Error')\n",
    "    pl.plot(max_depth, train_err, lw=2, label = 'Training Error')\n",
    "    pl.legend()\n",
    "    pl.xlabel('Maximum Depth')\n",
    "    pl.ylabel('Total Error')\n",
    "    pl.show()"
   ]
  },
  {
   "cell_type": "markdown",
   "metadata": {},
   "source": [
    "#Analyzing Model Performance\n",
    "In this third section of the project, you'll take a look at several models' learning and testing error rates on various subsets of training data. Additionally, you'll investigate one particular algorithm with an increasing `max_depth` parameter on the full training set to observe how model complexity affects learning and testing errors. Graphing your model's performance based on varying criteria can be beneficial in the analysis process, such as visualizing behavior that may not have been apparent from the results alone."
   ]
  },
  {
   "cell_type": "code",
   "execution_count": 120,
   "metadata": {
    "collapsed": false
   },
   "outputs": [],
   "source": [
    "model_complexity(X_train, y_train, X_test, y_test)"
   ]
  },
  {
   "cell_type": "markdown",
   "metadata": {},
   "source": [
    "##Question 9\n",
    "*From the model complexity graph above, describe the training and testing errors as the max depth increases. Based on your interpretation of the graph, which max depth results in a model that best generalizes the dataset? Why?*"
   ]
  },
  {
   "cell_type": "markdown",
   "metadata": {},
   "source": [
    "**Answer: **\n",
    "\n",
    "*** testing & training Characteristics at 1 max depth*\n",
    "\n",
    "Looking at depth 1 both the testing set and training set have high bias. In other words when the model is using full training set and the max depth is 1 the model suffers from high underfitting (bias).\n",
    "\n",
    "From depths 1-4  the test error improves with  each increase in depth. Each increase in complexity translates to an improvement in prediction accuracy.\n",
    "\n",
    "**Best depth*\n",
    "\n",
    "For our purposes, using a model with depth 4 is the best option as we have the lowest complexity while still keeping the model accuracy the same because when depth = 4 our test error is lowest while also being closest to the training error. (Of course if mode data was gathered this could chance and we would need to re-evaluate).\n",
    "\n",
    "Then, when we look at the model complexity output around depth = 5, we observe that the error shows what seems to be a constant trend. In general, after depth 4 the test error does not get worse, however the additional depths add complexity, and increases the amount of data we need to generalize, without bringing improvement in prediction.\n",
    "\n",
    "*** testing & training Characteristics at 10 max depth*\n",
    "\n",
    "At this point we seem to be overfitting because there is a large gap between the error of the test set and the error of the training set. This shows us that our model is not generalizing from the training set to the test set as much as we would like and we have overfit the model. This means that when the model is using full training set and the max depth is 10 the model suffers from high variance (overfitting)."
   ]
  },
  {
   "cell_type": "markdown",
   "metadata": {},
   "source": [
    "#Model Prediction\n",
    "In this final section of the project, you will make a prediction on the client's feature set using an optimized model from `fit_model`. *To answer the following questions, it is recommended that you run the code blocks several times and use the median or mean value of the results.*"
   ]
  },
  {
   "cell_type": "markdown",
   "metadata": {},
   "source": [
    "##Question 10\n",
    "*Using grid search on the entire dataset, what is the optimal `max_depth` parameter for your model? How does this result compare to your intial intuition?*  \n",
    "**Hint: ** Run the code block below to see the max depth produced by your optimized model."
   ]
  },
  {
   "cell_type": "code",
   "execution_count": 207,
   "metadata": {
    "collapsed": false
   },
   "outputs": [],
   "source": [
    "print \"Final model optimal parameters:\" + str(reg.best_params_)"
   ]
  },
  {
   "cell_type": "markdown",
   "metadata": {},
   "source": [
    "**Answer: **\n",
    "\n",
    "Max depth is 6 best generalizes the data set because in the model complexity graph when *max_depth = 6* the model does not suffer from underfitting like the model of *max_depth=4* probably does.\n",
    "\n",
    "Final Model (not underfitting): \n",
    "\n",
    "{'max_depth': 6}\n",
    "\n",
    "Predicted value of client's home: [ 20.76598639]\n",
    "\n",
    "Final Model (underfitting): \n",
    "\n",
    "{'max_depth': 4}\n",
    "\n",
    "Prediction: [ 21.62974359]"
   ]
  },
  {
   "cell_type": "markdown",
   "metadata": {},
   "source": [
    "##Question 11\n",
    "*With your parameter-tuned model, what is the best selling price for your client's home? How does this selling price compare to the basic statistics you calculated on the dataset?*  \n",
    "\n",
    "**Hint: ** Run the code block below to have your parameter-tuned model make a prediction on the client's home."
   ]
  },
  {
   "cell_type": "code",
   "execution_count": 211,
   "metadata": {
    "collapsed": false
   },
   "outputs": [],
   "source": [
    "sale_price = reg.predict(CLIENT_FEATURES)\n",
    "print \"Predicted value of client's home: \" + str(sale_price[0])"
   ]
  },
  {
   "cell_type": "markdown",
   "metadata": {},
   "source": [
    "**Answer: **\n",
    "\n",
    "Predicted value of client's home: [ 20.76598639]\n",
    "\n",
    "The predicition is close to the median house price, and within the standard deviation.\n",
    "\n",
    "Mean house price: 22.5328063241\n",
    "\n",
    "Median house price: 21.2\n",
    "\n",
    "Standard dev house price: 9.18801154528"
   ]
  },
  {
   "cell_type": "markdown",
   "metadata": {},
   "source": [
    "##Question 12 (Final Question):\n",
    "*In a few sentences, discuss whether you would use this model or not to predict the selling price of future clients' homes in the Greater Boston area.*"
   ]
  },
  {
   "cell_type": "code",
   "execution_count": 116,
   "metadata": {
    "collapsed": false
   },
   "outputs": [
    {
     "data": {
      "text/plain": [
       "Boston Housing Residual Plot"
      ]
     },
     "execution_count": 116,
     "metadata": {},
     "output_type": "execute_result"
    },
    {
     "data": {
      "image/png": "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\n"
      "text/plain": [
       "Boston Housing Residual Plot"
      ]
     },
     "metadata": {},
     "output_type": "display_data"
    }
   ],
   "source": [
    "print \"Residuals graph:\"\n",
    "pl.figure()\n",
    "pl.plot(y_train - regressor.predict(X_train))\n",
    "pl.legend()\n",
    "pl.savefig(\"residual_plot.png\")"
   ]
  },
  {
   "cell_type": "markdown",
   "metadata": {},
   "source": [
    "**Answer: ** When we analyze the graph of the residuals it is sinusidal and that shows us are underfitting the dataset. A linear model is not good enough to generalize the data [10 Types of Regression](http://www.datasciencecentral.com/profiles/blogs/10-types-of-regressions-which-one-to-use)."
   ]
  }
 ],
 "metadata": {
  "kernelspec": {
   "display_name": "Python 2",
   "language": "python",
   "name": "python2"
  },
  "language_info": {
   "codemirror_mode": {
    "name": "ipython",
    "version": 2
   },
   "file_extension": ".py",
   "mimetype": "text/x-python",
   "name": "python",
   "nbconvert_exporter": "python",
   "pygments_lexer": "ipython2",
   "version": "2.7.11"
  }
 },
 "nbformat": 4,
 "nbformat_minor": 0
}

